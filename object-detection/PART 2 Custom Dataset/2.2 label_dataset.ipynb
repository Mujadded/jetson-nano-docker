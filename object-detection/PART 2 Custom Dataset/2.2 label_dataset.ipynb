{
 "cells": [
  {
   "cell_type": "code",
   "execution_count": null,
   "metadata": {},
   "outputs": [],
   "source": [
    "from jupyter_bbox_widget import BBoxWidget\n",
    "import ipywidgets as widgets\n",
    "import os\n",
    "import json\n",
    "import base64"
   ]
  },
  {
   "cell_type": "code",
   "execution_count": null,
   "metadata": {},
   "outputs": [],
   "source": [
    "def encode_image(filepath):\n",
    "    with open(filepath, 'rb') as f:\n",
    "        image_bytes = f.read()\n",
    "    encoded = str(base64.b64encode(image_bytes), 'utf-8')\n",
    "    return \"data:image/jpg;base64,\"+encoded"
   ]
  },
  {
   "cell_type": "code",
   "execution_count": null,
   "metadata": {},
   "outputs": [],
   "source": [
    "CLASS_LABELS = ['apple', 'orange', 'pear']\n",
    "\n",
    "UNLABELLED_DATA_DIR = '/nvdli-nano/data/object-detection/custom/raw_images'\n",
    "files = sorted(os.listdir(UNLABELLED_DATA_DIR))\n",
    "\n",
    "annotations = {}\n",
    "annotations_path = f'{UNLABELLED_DATA_DIR}/annotations.json'"
   ]
  },
  {
   "cell_type": "code",
   "execution_count": null,
   "metadata": {},
   "outputs": [],
   "source": [
    "# a progress bar to show how far we got\n",
    "w_progress = widgets.IntProgress(value=0, max=len(files), description='Progress')\n",
    "# the bbox widget\n",
    "w_bbox = BBoxWidget(\n",
    "    image = encode_image(os.path.join(UNLABELLED_DATA_DIR, files[0])),\n",
    "    classes=CLASS_LABELS\n",
    ")\n",
    "\n",
    "# combine widgets into a container\n",
    "w_container = widgets.VBox([\n",
    "    w_progress,\n",
    "    w_bbox,\n",
    "])"
   ]
  },
  {
   "cell_type": "code",
   "execution_count": null,
   "metadata": {},
   "outputs": [],
   "source": [
    "# when Skip button is pressed we move on to the next file\n",
    "@w_bbox.on_skip\n",
    "def skip():\n",
    "    w_progress.value += 1\n",
    "    # open new image in the widget\n",
    "    image_file = files[w_progress.value]\n",
    "    w_bbox.image = encode_image(os.path.join(UNLABELLED_DATA_DIR, image_file))\n",
    "    # here we assign an empty list to bboxes but \n",
    "    # we could also run a detection model on the file\n",
    "    # and use its output for creating inital bboxes\n",
    "    w_bbox.bboxes = [] \n",
    "\n",
    "# when Submit button is pressed we save current annotations\n",
    "# and then move on to the next file\n",
    "@w_bbox.on_submit\n",
    "def submit():\n",
    "    image_file = files[w_progress.value]\n",
    "    # save annotations for current image\n",
    "    annotations[image_file] = w_bbox.bboxes\n",
    "    with open(annotations_path, 'w') as f:\n",
    "        json.dump(annotations, f, indent=4)\n",
    "    # move on to the next file\n",
    "    skip()"
   ]
  },
  {
   "cell_type": "code",
   "execution_count": null,
   "metadata": {},
   "outputs": [],
   "source": [
    "w_container"
   ]
  }
 ],
 "metadata": {
  "language_info": {
   "name": "python"
  }
 },
 "nbformat": 4,
 "nbformat_minor": 2
}
