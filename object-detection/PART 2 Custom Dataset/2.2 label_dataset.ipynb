{
 "cells": [
  {
   "cell_type": "code",
   "execution_count": null,
   "metadata": {},
   "outputs": [],
   "source": [
    "from jupyter_bbox_widget import BBoxWidget\n",
    "import ipywidgets as widgets\n",
    "import os\n",
    "import json\n",
    "import base64"
   ]
  },
  {
   "cell_type": "code",
   "execution_count": null,
   "metadata": {},
   "outputs": [],
   "source": [
    "def encode_image(filepath):\n",
    "    with open(filepath, 'rb') as f:\n",
    "        image_bytes = f.read()\n",
    "    encoded = str(base64.b64encode(image_bytes), 'utf-8')\n",
    "    return \"data:image/jpg;base64,\"+encoded"
   ]
  },
  {
   "cell_type": "code",
   "execution_count": null,
   "metadata": {},
   "outputs": [],
   "source": [
    "CLASS_LABELS = ['apple', 'orange', 'pear']\n",
    "TRAIN_DATA_ANNOTATIONS_PATH = './train_data.txt'\n",
    "TEST_DATA_ANNOTATIONS_PATH = './test_data.txt'\n",
    "CUSTOM_DATASET_DIR = '/nvdli-nano/data/objectdetection/images/custom'\n",
    "UNLABELLED_DATA_DIR = f'{CUSTOM_DATASET_DIR}/raw'\n",
    "ANNOTATIONS_PATH = f'{UNLABELLED_DATA_DIR}/annotations.json'\n"
   ]
  },
  {
   "cell_type": "code",
   "execution_count": null,
   "metadata": {},
   "outputs": [],
   "source": [
    "files = sorted(os.listdir(UNLABELLED_DATA_DIR))\n",
    "annotations = {}"
   ]
  },
  {
   "cell_type": "code",
   "execution_count": null,
   "metadata": {},
   "outputs": [],
   "source": [
    "# a progress bar to show how far we got\n",
    "w_progress = widgets.IntProgress(value=0, max=len(files), description='Progress')\n",
    "# the bbox widget\n",
    "w_bbox = BBoxWidget(\n",
    "    image = encode_image(os.path.join(UNLABELLED_DATA_DIR, files[0])),\n",
    "    classes=CLASS_LABELS\n",
    ")\n",
    "\n",
    "# combine widgets into a container\n",
    "w_container = widgets.VBox([\n",
    "    w_progress,\n",
    "    w_bbox,\n",
    "])"
   ]
  },
  {
   "cell_type": "code",
   "execution_count": null,
   "metadata": {},
   "outputs": [],
   "source": [
    "# when Skip button is pressed we move on to the next file\n",
    "@w_bbox.on_skip\n",
    "def skip():\n",
    "    w_progress.value += 1\n",
    "    # open new image in the widget\n",
    "    image_file = files[w_progress.value]\n",
    "    w_bbox.image = encode_image(os.path.join(UNLABELLED_DATA_DIR, image_file))\n",
    "    # here we assign an empty list to bboxes but \n",
    "    # we could also run a detection model on the file\n",
    "    # and use its output for creating inital bboxes\n",
    "    w_bbox.bboxes = [] \n",
    "\n",
    "# when Submit button is pressed we save current annotations\n",
    "# and then move on to the next file\n",
    "@w_bbox.on_submit\n",
    "def submit():\n",
    "    image_file = files[w_progress.value]\n",
    "    # save annotations for current image\n",
    "    annotations[image_file] = w_bbox.bboxes\n",
    "    with open(ANNOTATIONS_PATH, 'w') as f:\n",
    "        json.dump(annotations, f, indent=4)\n",
    "    # move on to the next file\n",
    "    skip()"
   ]
  },
  {
   "cell_type": "code",
   "execution_count": null,
   "metadata": {},
   "outputs": [],
   "source": [
    "w_container"
   ]
  },
  {
   "cell_type": "code",
   "execution_count": null,
   "metadata": {},
   "outputs": [],
   "source": [
    "def data_row_from_file(file, annotations_data):\n",
    "  file_path = f'{UNLABELLED_DATA_DIR}/{file}'\n",
    "  single_image_annotations = annotations_data[file]\n",
    "  row = file_path\n",
    "  for single_image_annotation in single_image_annotations:\n",
    "      x = single_image_annotation['x']\n",
    "      y = single_image_annotation['y']\n",
    "      width = single_image_annotation['width']\n",
    "      height = single_image_annotation['height']\n",
    "      label = single_image_annotation['label']\n",
    "      x_min = x\n",
    "      y_min = y\n",
    "      x_max = x_min + width\n",
    "      y_max = y_min + height\n",
    "      row = f'{row} {label} {x_min} {y_min} {x_max} {y_max}'\n",
    "  return f'{row}\\n'"
   ]
  },
  {
   "cell_type": "code",
   "execution_count": null,
   "metadata": {},
   "outputs": [],
   "source": [
    "import json\n",
    "import random\n",
    "\n",
    "files = []\n",
    "annotations_data = {}\n",
    "\n",
    "with open(ANNOTATIONS_PATH) as json_data:\n",
    "    annotations_data = json.load(json_data)\n",
    "    files = list(annotations_data.keys())\n",
    "    \n",
    "random.shuffle(files)\n",
    "\n",
    "train_data = files[:int((len(files)+1)*.80)] #Remaining 80% to training set\n",
    "test_data = files[int((len(files)+1)*.80):] #Splits 20% data to test set\n",
    "\n",
    "\n",
    "with open(TRAIN_DATA_ANNOTATIONS_PATH, 'w') as f:\n",
    "    for file in train_data:\n",
    "        row = data_row_from_file(file, annotations_data)\n",
    "        f.write(row)\n",
    "        \n",
    "with open(TEST_DATA_ANNOTATIONS_PATH, 'w') as f:\n",
    "    for file in test_data:\n",
    "        row = data_row_from_file(file, annotations_data)\n",
    "        f.write(row)"
   ]
  },
  {
   "cell_type": "code",
   "execution_count": null,
   "metadata": {},
   "outputs": [],
   "source": [
    "from pascal_voc.pascal_voc import PASCALVOC07\n",
    "from easydict import EasyDict as edict\n",
    "import os\n",
    "\n",
    "config = edict()\n",
    "config.author = \"anonymous\"\n",
    "config.root = \"annotation\"\n",
    "config.folder = \"VOC2007\"\n",
    "config.annotation = \"PASCAL VOC2007\"\n",
    "config.segmented = \"0\"\n",
    "config.difficult = \"0\"\n",
    "config.truncated = \"0\"\n",
    "config.pose = \"Unspecified\"\n",
    "config.database = \"Custom\"\n",
    "config.depth = \"3\"\n",
    "\n",
    "\n",
    "\n",
    "trainval_anno = os.path.join(TRAIN_DATA_ANNOTATIONS_PATH)\n",
    "test_anno = os.path.join(TEST_DATA_ANNOTATIONS_PATH)\n",
    "\n",
    "val_ratio = 0\n",
    "\n",
    "p = PASCALVOC07(trainval_anno, test_anno, val_ratio, CUSTOM_DATASET_DIR, config)\n",
    "p.build(True)"
   ]
  },
  {
   "cell_type": "code",
   "execution_count": null,
   "metadata": {},
   "outputs": [],
   "source": []
  }
 ],
 "metadata": {
  "kernelspec": {
   "display_name": "Python 3",
   "language": "python",
   "name": "python3"
  },
  "language_info": {
   "codemirror_mode": {
    "name": "ipython",
    "version": 3
   },
   "file_extension": ".py",
   "mimetype": "text/x-python",
   "name": "python",
   "nbconvert_exporter": "python",
   "pygments_lexer": "ipython3",
   "version": "3.6.9"
  }
 },
 "nbformat": 4,
 "nbformat_minor": 2
}
